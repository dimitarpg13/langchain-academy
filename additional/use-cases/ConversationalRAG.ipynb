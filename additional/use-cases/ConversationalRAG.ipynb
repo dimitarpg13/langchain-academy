{
 "cells": [
  {
   "cell_type": "markdown",
   "id": "f235243a-198d-4daf-9b40-64cd345f1a8c",
   "metadata": {},
   "source": [
    "## Conversational RAG\n",
    "\n",
    "In many Q&A applications we want to allow the user to have back-and-forth conversation, meaning the application needs some sort of memory or storage of past questions and answers, and some logic for incorporating those into its current thinking.\n",
    "\n",
    "We will focus on **adding logic for incorporating historical messages**. Further details on chat history management can be found here. "
   ]
  },
  {
   "cell_type": "code",
   "execution_count": null,
   "id": "d95bfa7e-fb33-4741-b2c2-db06ee7d418c",
   "metadata": {},
   "outputs": [],
   "source": []
  }
 ],
 "metadata": {
  "kernelspec": {
   "display_name": "Python 3 (ipykernel)",
   "language": "python",
   "name": "python3"
  },
  "language_info": {
   "codemirror_mode": {
    "name": "ipython",
    "version": 3
   },
   "file_extension": ".py",
   "mimetype": "text/x-python",
   "name": "python",
   "nbconvert_exporter": "python",
   "pygments_lexer": "ipython3",
   "version": "3.12.4"
  }
 },
 "nbformat": 4,
 "nbformat_minor": 5
}
